{
 "cells": [
  {
   "cell_type": "markdown",
   "id": "atomic-princess",
   "metadata": {},
   "source": [
    "## Homework 2: Data structures and data cleaning\n",
    "\n",
    "In this homework you will have to apply the knowledge you have learned about tidy data from reading Wickham (2014). You will have to identify problems with the organization of example datasets using the terms introduced in Wickham. You will also have to tidy a dataset, and perform some basic cleaning operations. \n",
    "\n",
    "Before you begin, you will need to have completed the following requirements:\n",
    "- Read Wickham (2014)\n",
    "- If you haven't worked with the tidyverse package before, you need to install it with the `install.packages('tidyverse')` command\n",
    "- Consult Tutorial 2, which explains the basic tidyverse commands for processing data: https://github.com/venpopov/DataSciencePsychUZH/blob/main/Tutorials/Tutorial02_Data_processing_with_R_and_tidyverse.ipynb\n",
    "\n",
    "*Copy this notebook, the folder `data` and the folder `figures` in your repository, and type in your responses and/or code in the corresponding cells. Your homework will be scored based on the total number of points (30 total possible).*"
   ]
  },
  {
   "cell_type": "markdown",
   "id": "controlled-being",
   "metadata": {},
   "source": [
    "### 1. Identifying non-tidy datasets\n",
    "\n"
   ]
  },
  {
   "cell_type": "markdown",
   "id": "incorporated-selection",
   "metadata": {},
   "source": [
    "#### 1.1 Problem 1\n",
    "The dataset below shows demographic information, IQ and college grade point average for several students"
   ]
  },
  {
   "cell_type": "code",
   "execution_count": 1,
   "id": "attractive-argument",
   "metadata": {
    "scrolled": true
   },
   "outputs": [
    {
     "data": {
      "text/html": [
       "<table class=\"dataframe\">\n",
       "<caption>A data.frame: 6 × 4</caption>\n",
       "<thead>\n",
       "\t<tr><th scope=col>subject_id</th><th scope=col>demographic_info</th><th scope=col>verbal_IQ</th><th scope=col>GPA</th></tr>\n",
       "\t<tr><th scope=col>&lt;int&gt;</th><th scope=col>&lt;chr&gt;</th><th scope=col>&lt;int&gt;</th><th scope=col>&lt;dbl&gt;</th></tr>\n",
       "</thead>\n",
       "<tbody>\n",
       "\t<tr><td>101</td><td>male, 23  </td><td>105</td><td>3.9</td></tr>\n",
       "\t<tr><td>102</td><td>male, 19  </td><td>121</td><td>3.2</td></tr>\n",
       "\t<tr><td>103</td><td>female, 27</td><td>123</td><td>3.4</td></tr>\n",
       "\t<tr><td>104</td><td>male, 21  </td><td> 97</td><td>2.8</td></tr>\n",
       "\t<tr><td>105</td><td>female, 21</td><td> 93</td><td>2.9</td></tr>\n",
       "\t<tr><td>106</td><td>female, 25</td><td>135</td><td>3.8</td></tr>\n",
       "</tbody>\n",
       "</table>\n"
      ],
      "text/latex": [
       "A data.frame: 6 × 4\n",
       "\\begin{tabular}{llll}\n",
       " subject\\_id & demographic\\_info & verbal\\_IQ & GPA\\\\\n",
       " <int> & <chr> & <int> & <dbl>\\\\\n",
       "\\hline\n",
       "\t 101 & male, 23   & 105 & 3.9\\\\\n",
       "\t 102 & male, 19   & 121 & 3.2\\\\\n",
       "\t 103 & female, 27 & 123 & 3.4\\\\\n",
       "\t 104 & male, 21   &  97 & 2.8\\\\\n",
       "\t 105 & female, 21 &  93 & 2.9\\\\\n",
       "\t 106 & female, 25 & 135 & 3.8\\\\\n",
       "\\end{tabular}\n"
      ],
      "text/markdown": [
       "\n",
       "A data.frame: 6 × 4\n",
       "\n",
       "| subject_id &lt;int&gt; | demographic_info &lt;chr&gt; | verbal_IQ &lt;int&gt; | GPA &lt;dbl&gt; |\n",
       "|---|---|---|---|\n",
       "| 101 | male, 23   | 105 | 3.9 |\n",
       "| 102 | male, 19   | 121 | 3.2 |\n",
       "| 103 | female, 27 | 123 | 3.4 |\n",
       "| 104 | male, 21   |  97 | 2.8 |\n",
       "| 105 | female, 21 |  93 | 2.9 |\n",
       "| 106 | female, 25 | 135 | 3.8 |\n",
       "\n"
      ],
      "text/plain": [
       "  subject_id demographic_info verbal_IQ GPA\n",
       "1 101        male, 23         105       3.9\n",
       "2 102        male, 19         121       3.2\n",
       "3 103        female, 27       123       3.4\n",
       "4 104        male, 21          97       2.8\n",
       "5 105        female, 21        93       2.9\n",
       "6 106        female, 25       135       3.8"
      ]
     },
     "metadata": {},
     "output_type": "display_data"
    }
   ],
   "source": [
    "iq_grade <- read.csv('data/iq_grade.csv')\n",
    "iq_grade"
   ]
  },
  {
   "cell_type": "markdown",
   "id": "curious-grade",
   "metadata": {},
   "source": [
    "This dataset is not in a tidy format. Why? Which of the five most common problems described by Wickhams is this an example of? Edit this cell and replace the text below with your response **(1 point)**:\n",
    "\n",
    "> *replace this text with your response*"
   ]
  },
  {
   "cell_type": "markdown",
   "id": "lesser-creation",
   "metadata": {},
   "source": [
    "What would you have to do to make this dataset in tidy format? **(1 point)**\n",
    "> *replace this text with your response*"
   ]
  },
  {
   "cell_type": "markdown",
   "id": "configured-wrapping",
   "metadata": {},
   "source": [
    "Write code in the cell below to transform the `iq_grades` table into tidy format \n",
    "\n",
    "(hint: use the separate() command from the tidyverse package - see Tutorial 2; **3 points**): "
   ]
  },
  {
   "cell_type": "code",
   "execution_count": 2,
   "id": "handed-maintenance",
   "metadata": {},
   "outputs": [],
   "source": [
    "# INSERT CODE HERE"
   ]
  },
  {
   "cell_type": "markdown",
   "id": "phantom-victory",
   "metadata": {},
   "source": [
    "#### 1.2 Problem 2\n",
    "The dataset below shows statistics about violent crime rates by US state. The numbers represent frequency per 100,000 people. "
   ]
  },
  {
   "cell_type": "code",
   "execution_count": 3,
   "id": "existing-concern",
   "metadata": {},
   "outputs": [
    {
     "data": {
      "text/html": [
       "<table class=\"dataframe\">\n",
       "<caption>A data.frame: 6 × 3</caption>\n",
       "<thead>\n",
       "\t<tr><th></th><th scope=col>Murder</th><th scope=col>Assault</th><th scope=col>Rape</th></tr>\n",
       "\t<tr><th></th><th scope=col>&lt;dbl&gt;</th><th scope=col>&lt;int&gt;</th><th scope=col>&lt;dbl&gt;</th></tr>\n",
       "</thead>\n",
       "<tbody>\n",
       "\t<tr><th scope=row>Alabama</th><td>13.2</td><td>236</td><td>21.2</td></tr>\n",
       "\t<tr><th scope=row>Alaska</th><td>10.0</td><td>263</td><td>44.5</td></tr>\n",
       "\t<tr><th scope=row>Arizona</th><td> 8.1</td><td>294</td><td>31.0</td></tr>\n",
       "\t<tr><th scope=row>Arkansas</th><td> 8.8</td><td>190</td><td>19.5</td></tr>\n",
       "\t<tr><th scope=row>California</th><td> 9.0</td><td>276</td><td>40.6</td></tr>\n",
       "\t<tr><th scope=row>Colorado</th><td> 7.9</td><td>204</td><td>38.7</td></tr>\n",
       "</tbody>\n",
       "</table>\n"
      ],
      "text/latex": [
       "A data.frame: 6 × 3\n",
       "\\begin{tabular}{r|lll}\n",
       "  & Murder & Assault & Rape\\\\\n",
       "  & <dbl> & <int> & <dbl>\\\\\n",
       "\\hline\n",
       "\tAlabama & 13.2 & 236 & 21.2\\\\\n",
       "\tAlaska & 10.0 & 263 & 44.5\\\\\n",
       "\tArizona &  8.1 & 294 & 31.0\\\\\n",
       "\tArkansas &  8.8 & 190 & 19.5\\\\\n",
       "\tCalifornia &  9.0 & 276 & 40.6\\\\\n",
       "\tColorado &  7.9 & 204 & 38.7\\\\\n",
       "\\end{tabular}\n"
      ],
      "text/markdown": [
       "\n",
       "A data.frame: 6 × 3\n",
       "\n",
       "| <!--/--> | Murder &lt;dbl&gt; | Assault &lt;int&gt; | Rape &lt;dbl&gt; |\n",
       "|---|---|---|---|\n",
       "| Alabama | 13.2 | 236 | 21.2 |\n",
       "| Alaska | 10.0 | 263 | 44.5 |\n",
       "| Arizona |  8.1 | 294 | 31.0 |\n",
       "| Arkansas |  8.8 | 190 | 19.5 |\n",
       "| California |  9.0 | 276 | 40.6 |\n",
       "| Colorado |  7.9 | 204 | 38.7 |\n",
       "\n"
      ],
      "text/plain": [
       "           Murder Assault Rape\n",
       "Alabama    13.2   236     21.2\n",
       "Alaska     10.0   263     44.5\n",
       "Arizona     8.1   294     31.0\n",
       "Arkansas    8.8   190     19.5\n",
       "California  9.0   276     40.6\n",
       "Colorado    7.9   204     38.7"
      ]
     },
     "metadata": {},
     "output_type": "display_data"
    }
   ],
   "source": [
    "suppressMessages(library(tidyverse))\n",
    "\n",
    "data(\"USArrests\")\n",
    "USArrests <- select(USArrests, -UrbanPop)\n",
    "head(USArrests)"
   ]
  },
  {
   "cell_type": "markdown",
   "id": "adopted-resident",
   "metadata": {},
   "source": [
    "This dataset is not in a tidy format. Why? Which of the five most common problems described by Wickhams is this an example of? Edit this cell and replace the text below with your response **(1 point)**:\n",
    "\n",
    "> *replace this text with your response*"
   ]
  },
  {
   "cell_type": "markdown",
   "id": "going-labor",
   "metadata": {},
   "source": [
    "What would you have to do to make this dataset in tidy format? **(1 point)**\n",
    "> *replace this text with your response*"
   ]
  },
  {
   "cell_type": "markdown",
   "id": "virgin-chest",
   "metadata": {},
   "source": [
    "Write code in the cell below to transform the `USArrests` table into tidy format \n",
    "\n",
    "(hint: use the gather() command from the tidyverse package - see Tutorial 2; **3 points**): "
   ]
  },
  {
   "cell_type": "code",
   "execution_count": 4,
   "id": "unlike-production",
   "metadata": {},
   "outputs": [],
   "source": [
    "# INSERT CODE HERE"
   ]
  },
  {
   "cell_type": "markdown",
   "id": "marine-teddy",
   "metadata": {},
   "source": [
    "#### 1.3 Problem 3"
   ]
  },
  {
   "cell_type": "markdown",
   "id": "distributed-partnership",
   "metadata": {},
   "source": [
    "The three tables below give the measurements in centimeters of the variables sepal length, sepal width, petal length and petal width, respectively, for 50 flowers from each of 3 species of iris flowers. The species are setosa, versicolor, and virginica."
   ]
  },
  {
   "cell_type": "code",
   "execution_count": 5,
   "id": "trained-motor",
   "metadata": {},
   "outputs": [
    {
     "data": {
      "text/html": [
       "<table class=\"dataframe\">\n",
       "<caption>A data.frame: 6 × 4</caption>\n",
       "<thead>\n",
       "\t<tr><th></th><th scope=col>Sepal.Length</th><th scope=col>Sepal.Width</th><th scope=col>Petal.Length</th><th scope=col>Petal.Width</th></tr>\n",
       "\t<tr><th></th><th scope=col>&lt;dbl&gt;</th><th scope=col>&lt;dbl&gt;</th><th scope=col>&lt;dbl&gt;</th><th scope=col>&lt;dbl&gt;</th></tr>\n",
       "</thead>\n",
       "<tbody>\n",
       "\t<tr><th scope=row>1</th><td>5.1</td><td>3.5</td><td>1.4</td><td>0.2</td></tr>\n",
       "\t<tr><th scope=row>2</th><td>4.9</td><td>3.0</td><td>1.4</td><td>0.2</td></tr>\n",
       "\t<tr><th scope=row>3</th><td>4.7</td><td>3.2</td><td>1.3</td><td>0.2</td></tr>\n",
       "\t<tr><th scope=row>4</th><td>4.6</td><td>3.1</td><td>1.5</td><td>0.2</td></tr>\n",
       "\t<tr><th scope=row>5</th><td>5.0</td><td>3.6</td><td>1.4</td><td>0.2</td></tr>\n",
       "\t<tr><th scope=row>6</th><td>5.4</td><td>3.9</td><td>1.7</td><td>0.4</td></tr>\n",
       "</tbody>\n",
       "</table>\n"
      ],
      "text/latex": [
       "A data.frame: 6 × 4\n",
       "\\begin{tabular}{r|llll}\n",
       "  & Sepal.Length & Sepal.Width & Petal.Length & Petal.Width\\\\\n",
       "  & <dbl> & <dbl> & <dbl> & <dbl>\\\\\n",
       "\\hline\n",
       "\t1 & 5.1 & 3.5 & 1.4 & 0.2\\\\\n",
       "\t2 & 4.9 & 3.0 & 1.4 & 0.2\\\\\n",
       "\t3 & 4.7 & 3.2 & 1.3 & 0.2\\\\\n",
       "\t4 & 4.6 & 3.1 & 1.5 & 0.2\\\\\n",
       "\t5 & 5.0 & 3.6 & 1.4 & 0.2\\\\\n",
       "\t6 & 5.4 & 3.9 & 1.7 & 0.4\\\\\n",
       "\\end{tabular}\n"
      ],
      "text/markdown": [
       "\n",
       "A data.frame: 6 × 4\n",
       "\n",
       "| <!--/--> | Sepal.Length &lt;dbl&gt; | Sepal.Width &lt;dbl&gt; | Petal.Length &lt;dbl&gt; | Petal.Width &lt;dbl&gt; |\n",
       "|---|---|---|---|---|\n",
       "| 1 | 5.1 | 3.5 | 1.4 | 0.2 |\n",
       "| 2 | 4.9 | 3.0 | 1.4 | 0.2 |\n",
       "| 3 | 4.7 | 3.2 | 1.3 | 0.2 |\n",
       "| 4 | 4.6 | 3.1 | 1.5 | 0.2 |\n",
       "| 5 | 5.0 | 3.6 | 1.4 | 0.2 |\n",
       "| 6 | 5.4 | 3.9 | 1.7 | 0.4 |\n",
       "\n"
      ],
      "text/plain": [
       "  Sepal.Length Sepal.Width Petal.Length Petal.Width\n",
       "1 5.1          3.5         1.4          0.2        \n",
       "2 4.9          3.0         1.4          0.2        \n",
       "3 4.7          3.2         1.3          0.2        \n",
       "4 4.6          3.1         1.5          0.2        \n",
       "5 5.0          3.6         1.4          0.2        \n",
       "6 5.4          3.9         1.7          0.4        "
      ]
     },
     "metadata": {},
     "output_type": "display_data"
    },
    {
     "data": {
      "text/html": [
       "<table class=\"dataframe\">\n",
       "<caption>A data.frame: 6 × 4</caption>\n",
       "<thead>\n",
       "\t<tr><th></th><th scope=col>Sepal.Length</th><th scope=col>Sepal.Width</th><th scope=col>Petal.Length</th><th scope=col>Petal.Width</th></tr>\n",
       "\t<tr><th></th><th scope=col>&lt;dbl&gt;</th><th scope=col>&lt;dbl&gt;</th><th scope=col>&lt;dbl&gt;</th><th scope=col>&lt;dbl&gt;</th></tr>\n",
       "</thead>\n",
       "<tbody>\n",
       "\t<tr><th scope=row>1</th><td>6.3</td><td>3.3</td><td>6.0</td><td>2.5</td></tr>\n",
       "\t<tr><th scope=row>2</th><td>5.8</td><td>2.7</td><td>5.1</td><td>1.9</td></tr>\n",
       "\t<tr><th scope=row>3</th><td>7.1</td><td>3.0</td><td>5.9</td><td>2.1</td></tr>\n",
       "\t<tr><th scope=row>4</th><td>6.3</td><td>2.9</td><td>5.6</td><td>1.8</td></tr>\n",
       "\t<tr><th scope=row>5</th><td>6.5</td><td>3.0</td><td>5.8</td><td>2.2</td></tr>\n",
       "\t<tr><th scope=row>6</th><td>7.6</td><td>3.0</td><td>6.6</td><td>2.1</td></tr>\n",
       "</tbody>\n",
       "</table>\n"
      ],
      "text/latex": [
       "A data.frame: 6 × 4\n",
       "\\begin{tabular}{r|llll}\n",
       "  & Sepal.Length & Sepal.Width & Petal.Length & Petal.Width\\\\\n",
       "  & <dbl> & <dbl> & <dbl> & <dbl>\\\\\n",
       "\\hline\n",
       "\t1 & 6.3 & 3.3 & 6.0 & 2.5\\\\\n",
       "\t2 & 5.8 & 2.7 & 5.1 & 1.9\\\\\n",
       "\t3 & 7.1 & 3.0 & 5.9 & 2.1\\\\\n",
       "\t4 & 6.3 & 2.9 & 5.6 & 1.8\\\\\n",
       "\t5 & 6.5 & 3.0 & 5.8 & 2.2\\\\\n",
       "\t6 & 7.6 & 3.0 & 6.6 & 2.1\\\\\n",
       "\\end{tabular}\n"
      ],
      "text/markdown": [
       "\n",
       "A data.frame: 6 × 4\n",
       "\n",
       "| <!--/--> | Sepal.Length &lt;dbl&gt; | Sepal.Width &lt;dbl&gt; | Petal.Length &lt;dbl&gt; | Petal.Width &lt;dbl&gt; |\n",
       "|---|---|---|---|---|\n",
       "| 1 | 6.3 | 3.3 | 6.0 | 2.5 |\n",
       "| 2 | 5.8 | 2.7 | 5.1 | 1.9 |\n",
       "| 3 | 7.1 | 3.0 | 5.9 | 2.1 |\n",
       "| 4 | 6.3 | 2.9 | 5.6 | 1.8 |\n",
       "| 5 | 6.5 | 3.0 | 5.8 | 2.2 |\n",
       "| 6 | 7.6 | 3.0 | 6.6 | 2.1 |\n",
       "\n"
      ],
      "text/plain": [
       "  Sepal.Length Sepal.Width Petal.Length Petal.Width\n",
       "1 6.3          3.3         6.0          2.5        \n",
       "2 5.8          2.7         5.1          1.9        \n",
       "3 7.1          3.0         5.9          2.1        \n",
       "4 6.3          2.9         5.6          1.8        \n",
       "5 6.5          3.0         5.8          2.2        \n",
       "6 7.6          3.0         6.6          2.1        "
      ]
     },
     "metadata": {},
     "output_type": "display_data"
    },
    {
     "data": {
      "text/html": [
       "<table class=\"dataframe\">\n",
       "<caption>A data.frame: 6 × 4</caption>\n",
       "<thead>\n",
       "\t<tr><th></th><th scope=col>Sepal.Length</th><th scope=col>Sepal.Width</th><th scope=col>Petal.Length</th><th scope=col>Petal.Width</th></tr>\n",
       "\t<tr><th></th><th scope=col>&lt;dbl&gt;</th><th scope=col>&lt;dbl&gt;</th><th scope=col>&lt;dbl&gt;</th><th scope=col>&lt;dbl&gt;</th></tr>\n",
       "</thead>\n",
       "<tbody>\n",
       "\t<tr><th scope=row>1</th><td>7.0</td><td>3.2</td><td>4.7</td><td>1.4</td></tr>\n",
       "\t<tr><th scope=row>2</th><td>6.4</td><td>3.2</td><td>4.5</td><td>1.5</td></tr>\n",
       "\t<tr><th scope=row>3</th><td>6.9</td><td>3.1</td><td>4.9</td><td>1.5</td></tr>\n",
       "\t<tr><th scope=row>4</th><td>5.5</td><td>2.3</td><td>4.0</td><td>1.3</td></tr>\n",
       "\t<tr><th scope=row>5</th><td>6.5</td><td>2.8</td><td>4.6</td><td>1.5</td></tr>\n",
       "\t<tr><th scope=row>6</th><td>5.7</td><td>2.8</td><td>4.5</td><td>1.3</td></tr>\n",
       "</tbody>\n",
       "</table>\n"
      ],
      "text/latex": [
       "A data.frame: 6 × 4\n",
       "\\begin{tabular}{r|llll}\n",
       "  & Sepal.Length & Sepal.Width & Petal.Length & Petal.Width\\\\\n",
       "  & <dbl> & <dbl> & <dbl> & <dbl>\\\\\n",
       "\\hline\n",
       "\t1 & 7.0 & 3.2 & 4.7 & 1.4\\\\\n",
       "\t2 & 6.4 & 3.2 & 4.5 & 1.5\\\\\n",
       "\t3 & 6.9 & 3.1 & 4.9 & 1.5\\\\\n",
       "\t4 & 5.5 & 2.3 & 4.0 & 1.3\\\\\n",
       "\t5 & 6.5 & 2.8 & 4.6 & 1.5\\\\\n",
       "\t6 & 5.7 & 2.8 & 4.5 & 1.3\\\\\n",
       "\\end{tabular}\n"
      ],
      "text/markdown": [
       "\n",
       "A data.frame: 6 × 4\n",
       "\n",
       "| <!--/--> | Sepal.Length &lt;dbl&gt; | Sepal.Width &lt;dbl&gt; | Petal.Length &lt;dbl&gt; | Petal.Width &lt;dbl&gt; |\n",
       "|---|---|---|---|---|\n",
       "| 1 | 7.0 | 3.2 | 4.7 | 1.4 |\n",
       "| 2 | 6.4 | 3.2 | 4.5 | 1.5 |\n",
       "| 3 | 6.9 | 3.1 | 4.9 | 1.5 |\n",
       "| 4 | 5.5 | 2.3 | 4.0 | 1.3 |\n",
       "| 5 | 6.5 | 2.8 | 4.6 | 1.5 |\n",
       "| 6 | 5.7 | 2.8 | 4.5 | 1.3 |\n",
       "\n"
      ],
      "text/plain": [
       "  Sepal.Length Sepal.Width Petal.Length Petal.Width\n",
       "1 7.0          3.2         4.7          1.4        \n",
       "2 6.4          3.2         4.5          1.5        \n",
       "3 6.9          3.1         4.9          1.5        \n",
       "4 5.5          2.3         4.0          1.3        \n",
       "5 6.5          2.8         4.6          1.5        \n",
       "6 5.7          2.8         4.5          1.3        "
      ]
     },
     "metadata": {},
     "output_type": "display_data"
    }
   ],
   "source": [
    "# load data\n",
    "setosa <- read.csv('data/setosa.csv')\n",
    "virginica <- read.csv('data/virginica.csv')\n",
    "versicolor <- read.csv('data/versicolor.csv')\n",
    "\n",
    "# look at the data\n",
    "head(setosa)\n",
    "head(virginica)\n",
    "head(versicolor)"
   ]
  },
  {
   "cell_type": "markdown",
   "id": "polished-request",
   "metadata": {},
   "source": [
    "These tables are not in tidy format. Why? Which of the five most common problems described by Wickhams is this an example of? Edit this cell and replace the text below with your response **(1 point)**:\n",
    "> *replace this text with your response*"
   ]
  },
  {
   "cell_type": "markdown",
   "id": "scientific-horizon",
   "metadata": {},
   "source": [
    "What would you have to do to make this dataset in tidy format? **(1 point)**\n",
    "> *replace this text with your response*"
   ]
  },
  {
   "cell_type": "markdown",
   "id": "composed-sierra",
   "metadata": {},
   "source": [
    "Write code in the cell below to transform the `setosa`, `virginica` and `versicolor` tables into tidy format \n",
    "\n",
    "(hint: use the `bind_rows()` command from the tidyverse package; remember to include information about the species in tidy dataset; **3 points**): "
   ]
  },
  {
   "cell_type": "code",
   "execution_count": 6,
   "id": "special-happiness",
   "metadata": {},
   "outputs": [],
   "source": [
    "# INSERT CODE HERE"
   ]
  },
  {
   "cell_type": "markdown",
   "id": "southeast-steel",
   "metadata": {},
   "source": [
    "### 2. Putting it all together"
   ]
  },
  {
   "cell_type": "markdown",
   "id": "covered-sphere",
   "metadata": {},
   "source": [
    "The files `basel_weather_2018.csv`, `basel_weather_2019.csv`, `basel_weather_2020.csv` in the folder `data` contain detailed information about the minimum, mean and maximum temperature in Basel, Switzerland for every hour of every day of the last three years.\n",
    "\n",
    "The datasets have multiple structural issues. Combine your knowledge from the previous 3 problems to transform these datasets into a tidy format. The tidy format should allow you at the end to produce two plots:\n",
    "1. average mean temperature as a function of a time of day\n",
    "2. average maximum temperature as a function of month\n",
    "\n",
    "When you are done, you should be able to produce the following two plots:\n",
    "\n",
    "![max_temperature_plot](figures/basel_temp_by_month.png)\n",
    "![mean_temperature_plot](figures/basel_temp_by_time_of_day.png)"
   ]
  },
  {
   "cell_type": "markdown",
   "id": "faced-organization",
   "metadata": {},
   "source": [
    "First load the three dataset into three separate variables **(1 point)**:"
   ]
  },
  {
   "cell_type": "code",
   "execution_count": 7,
   "id": "comprehensive-wallpaper",
   "metadata": {},
   "outputs": [],
   "source": [
    "# INSERT CODE HERE"
   ]
  },
  {
   "cell_type": "markdown",
   "id": "republican-policy",
   "metadata": {},
   "source": [
    "Use the `head()` command to take a look at the first few rows of each dataset **(1 point)**:"
   ]
  },
  {
   "cell_type": "code",
   "execution_count": 8,
   "id": "identical-airport",
   "metadata": {},
   "outputs": [],
   "source": [
    "# INSERT CODE HERE"
   ]
  },
  {
   "cell_type": "markdown",
   "id": "available-directory",
   "metadata": {},
   "source": [
    "Use the `bind_rows()` command to combine the three datasets into one **(1 point)**:"
   ]
  },
  {
   "cell_type": "code",
   "execution_count": 9,
   "id": "genetic-savage",
   "metadata": {},
   "outputs": [],
   "source": [
    "# INSERT CODE HERE"
   ]
  },
  {
   "cell_type": "markdown",
   "id": "divided-possession",
   "metadata": {},
   "source": [
    "Use the `spread()` command to transform the dataset such that the mean, maximum, and minimum temperatures are in separate columns **(2 points)**:"
   ]
  },
  {
   "cell_type": "code",
   "execution_count": 10,
   "id": "transsexual-manor",
   "metadata": {},
   "outputs": [],
   "source": [
    "# INSERT CODE HERE"
   ]
  },
  {
   "cell_type": "markdown",
   "id": "beginning-track",
   "metadata": {},
   "source": [
    "The variable `timestamp` contains in each row a single string that represents the year, month, day and time of day in a single value. For example, `20200708T0700` means that the temperature in this row was observed on July 8th, 2020 at 7am. Create four new columns in your combined dataset:\n",
    "- Year\n",
    "- Month\n",
    "- Day\n",
    "- Hour\n",
    "\n",
    "and use the `substr()` command to extract the relevant information for each column from the `timestamp` variable. For example, `substr(temp_data$timestamp, 7, 8)` would extract the day from the timestamp. \n",
    "\n",
    "If you need help understanding the `substr()` command, [read this](https://stat.ethz.ch/R-manual/R-devel/library/base/html/substr.html)  **(2 points)**:"
   ]
  },
  {
   "cell_type": "code",
   "execution_count": 11,
   "id": "black-addiction",
   "metadata": {},
   "outputs": [],
   "source": [
    "# INSERT CODE HERE"
   ]
  },
  {
   "cell_type": "markdown",
   "id": "extreme-pontiac",
   "metadata": {},
   "source": [
    "Create a new dataset `monthly_temp` using the `group_by()` and `summarise()` commands (see Tutorial 2, Section 5). The new dataset should contain the average maximum temperature for each month. It should have 12 rows and two variables - `month` and `max_temperature`. **(2 points)**"
   ]
  },
  {
   "cell_type": "code",
   "execution_count": 12,
   "id": "nervous-howard",
   "metadata": {},
   "outputs": [],
   "source": [
    "# INSERT CODE HERE"
   ]
  },
  {
   "cell_type": "markdown",
   "id": "engaged-philippines",
   "metadata": {},
   "source": [
    "Use the `ggplot()` command on your newly created `monthly_temp` summarized dataset to reproduce the first plot above. The x axis should show the month, and the y axis should show the average maximum temperature for each month. **(2 points)**"
   ]
  },
  {
   "cell_type": "code",
   "execution_count": 13,
   "id": "demonstrated-signature",
   "metadata": {},
   "outputs": [],
   "source": [
    "# INSERT CODE HERE"
   ]
  },
  {
   "cell_type": "markdown",
   "id": "undefined-payroll",
   "metadata": {},
   "source": [
    "Create a new dataset `hourly_temp` using the `group_by()` and `summarise()` commands. The new dataset should contain the average mean temperature for each hour. It should have 24 rows and two variables - `hour` and `mean_temperature`. **(2 points)**"
   ]
  },
  {
   "cell_type": "code",
   "execution_count": 14,
   "id": "sublime-exposure",
   "metadata": {},
   "outputs": [],
   "source": [
    "# INSERT CODE HERE"
   ]
  },
  {
   "cell_type": "markdown",
   "id": "mental-plymouth",
   "metadata": {},
   "source": [
    "Use the `ggplot()` command on your newly created `hourly_temp` summarized dataset to reproduce the second plot above. The x axis should show the time of day (hour), and the y axis should show the average mean temperature for each time of day. **(2 points)**"
   ]
  },
  {
   "cell_type": "code",
   "execution_count": 15,
   "id": "distinct-release",
   "metadata": {},
   "outputs": [],
   "source": [
    "# INSERT CODE HERE"
   ]
  }
 ],
 "metadata": {
  "kernelspec": {
   "display_name": "R",
   "language": "R",
   "name": "ir"
  },
  "language_info": {
   "codemirror_mode": "r",
   "file_extension": ".r",
   "mimetype": "text/x-r-source",
   "name": "R",
   "pygments_lexer": "r",
   "version": "4.0.4"
  }
 },
 "nbformat": 4,
 "nbformat_minor": 5
}
